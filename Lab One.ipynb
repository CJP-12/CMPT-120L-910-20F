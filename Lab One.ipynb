{
 "metadata": {
  "language_info": {
   "codemirror_mode": {
    "name": "ipython",
    "version": 3
   },
   "file_extension": ".py",
   "mimetype": "text/x-python",
   "name": "python",
   "nbconvert_exporter": "python",
   "pygments_lexer": "ipython3",
   "version": "3.8.5-final"
  },
  "orig_nbformat": 2,
  "kernelspec": {
   "name": "python_defaultSpec_1600217313949",
   "display_name": "Python 3.8.5 64-bit"
  }
 },
 "nbformat": 4,
 "nbformat_minor": 2,
 "cells": [
  {
   "cell_type": "code",
   "execution_count": 6,
   "metadata": {
    "tags": []
   },
   "outputs": [
    {
     "output_type": "stream",
     "name": "stdout",
     "text": "How old is Connor\n19\nHow old is Connor\nFalse\n19.16\n"
    }
   ],
   "source": [
    "# Integers\n",
    "age= 19\n",
    "# Strings\n",
    "how_old= \"How old is Connor\"\n",
    "# Floats\n",
    "actual_age= 19.16\n",
    "# Boolean\n",
    "is_almost_20= False\n",
    "\n",
    "print(how_old)\n",
    "print(age)\n",
    "\n",
    "if age:\n",
    "    print(how_old)\n",
    "    print(is_almost_20)\n",
    "    print(actual_age)\n",
    "else: \n",
    "    print(\"All good\")"
   ]
  },
  {
   "cell_type": "code",
   "execution_count": 7,
   "metadata": {
    "tags": []
   },
   "outputs": [
    {
     "output_type": "stream",
     "name": "stdout",
     "text": "39\n-15\n324\n0.4444444444444444\n12\n"
    }
   ],
   "source": [
    "cars= 12\n",
    "people= 27\n",
    "\n",
    "print(cars + people)\n",
    "print(cars - people)\n",
    "print(cars * people)\n",
    "print(cars / people)\n",
    "print(cars % people)"
   ]
  },
  {
   "cell_type": "code",
   "execution_count": 8,
   "metadata": {
    "tags": []
   },
   "outputs": [
    {
     "output_type": "stream",
     "name": "stdout",
     "text": "57\n"
    }
   ],
   "source": [
    "books= 22\n",
    "pencils= 35\n",
    "print(books + pencils)"
   ]
  },
  {
   "cell_type": "code",
   "execution_count": 9,
   "metadata": {
    "tags": []
   },
   "outputs": [
    {
     "output_type": "stream",
     "name": "stdout",
     "text": "37\n37\n299.99\n10\n"
    }
   ],
   "source": [
    "# Change this variable into a string and print\n",
    "number_into_string = 37\n",
    "# Change this variable into a integer and print\n",
    "string_into_number = '10'\n",
    "# Change this variable into a float a print\n",
    "string_into_float = '299.99'\n",
    "# Change this variable into a boolean and print \n",
    "number_into_boolean = 37\n",
    "print(number_into_boolean)\n",
    "print(number_into_string)\n",
    "print(string_into_float)\n",
    "print(string_into_number)"
   ]
  },
  {
   "cell_type": "code",
   "execution_count": 10,
   "metadata": {
    "tags": []
   },
   "outputs": [
    {
     "output_type": "stream",
     "name": "stdout",
     "text": "('Dutchess', 'Putnam', 'Orange', 'Westchester')\n"
    }
   ],
   "source": [
    "# List\n",
    "counties= ('Dutchess', 'Putnam', 'Orange', 'Westchester')\n",
    "print(counties)"
   ]
  }
 ]
}